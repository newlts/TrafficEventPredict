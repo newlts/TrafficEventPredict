{
 "cells": [
  {
   "cell_type": "code",
   "execution_count": 1,
   "metadata": {},
   "outputs": [],
   "source": [
    "import requests\n",
    "from pathlib import Path\n",
    "import xmltodict\n",
    "import os\n",
    "import pandas as pd\n",
    "import io\n",
    "import datetime\n",
    "import pymongo\n",
    "import json\n",
    "import gzip\n",
    "import dns\n",
    "from os import listdir\n",
    "from os.path import isfile, join\n",
    "\n",
    "urlBase='https://tisvcloud.freeway.gov.tw/history/vd/'  # 20190624/cms_value_0000.xml.gz   20190624/cms_value_0014.xml.gz\n",
    "baseDir='../../../data/'\n",
    "client = pymongo.MongoClient(\"mongodb://localhost:27017\")\n",
    "db = client.traffic\n",
    "trType='vd'\n",
    "collect = db[trType]\n",
    "\n",
    "#確認該 url 是否可以下載, 例如 20190230 就不存在, 無法下載; 而且必須是附件形式的方可\n",
    "def isDownloadable(url):\n",
    "    \"\"\"\n",
    "    Does the url contain a downloadable resource\n",
    "    \"\"\"\n",
    "    h = requests.head(url, allow_redirects=True)\n",
    "    header = h.headers\n",
    "    content_type = header.get('content-type')\n",
    "    if content_type is None:\n",
    "        return False\n",
    "    if 'text' in content_type.lower():\n",
    "        return False\n",
    "    if 'html' in content_type.lower():\n",
    "        return False\n",
    "    return True\n",
    "\n",
    "\n",
    "#下載某url檔案後, 放在指定目錄下\n",
    "def downloadFileFromUrl(url, directory):\n",
    "    filename = directory+'/'+ url.rsplit('/', 1)[1]\n",
    "    if not os.path.exists(filename):\n",
    "        r = requests.get(url, allow_redirects=True)\n",
    "        open(filename, 'wb').write(r.content)"
   ]
  },
  {
   "cell_type": "code",
   "execution_count": 2,
   "metadata": {},
   "outputs": [],
   "source": [
    "#抓取 CMS 的某一天所有可能的檔案 並下載到指定目錄\n",
    "def downloadVD5MinDay(trType, day, baseDir):\n",
    "    downloads=[]\n",
    "    for hour in range(0,24):\n",
    "        for mininute in range(0,60,5):  #vd 每5分鐘一次\n",
    "            downloads.append(urlBase + day + '/' + trType + '_value5_'+ format(hour, '02d')+ format(mininute, '02d') +'.xml.gz' )\n",
    "    p=baseDir+trType+'/'+day\n",
    "    Path(p).mkdir(parents=True, exist_ok=True)\n",
    "    for url in downloads:\n",
    "        if isDownloadable(url):\n",
    "            downloadFileFromUrl(url,p)\n",
    "            #print(url)  "
   ]
  },
  {
   "cell_type": "code",
   "execution_count": 14,
   "metadata": {},
   "outputs": [],
   "source": [
    "from pandas import json_normalize #package for flattening json in pandas df\n",
    "\n",
    "def splitLane2Tbl(lanes):\n",
    "    return json_normalize(data=lanes, record_path='cars', meta=['@vsrid', '@speed','@laneoccupy'])\n",
    " "
   ]
  },
  {
   "cell_type": "code",
   "execution_count": 25,
   "metadata": {},
   "outputs": [],
   "source": [
    "          \n",
    "def getAllFiles2Mongo(trType, day, baseDir):\n",
    "    directory=baseDir+trType+'/'+day+'/'\n",
    "    #print(directory)\n",
    "    files = [f for f in listdir(directory) if isfile(join(directory, f))]\n",
    "    \n",
    "    for file in files:\n",
    "        print(file)\n",
    "        f = gzip.open(directory+file, 'rb')\n",
    "        doc = xmltodict.parse(f)\n",
    "        Y=doc['XML_Head']['Infos']\n",
    "        tmp=[]\n",
    "        if Y is not None:\n",
    "            X=Y['Info']\n",
    "            #has datacollecttime, no need updateTime=datetime.datetime.strptime(doc['XML_Head']['@updatetime'], \"%Y/%m/%d %H:%M:%S\")\n",
    "            json_data = json.dumps(X)\n",
    "            cc = json.loads(json_data)\n",
    "            \n",
    "            for a in cc:\n",
    "                tmp.append({\"vdid\":a['@vdid'], \"collecttime\": a['@datacollecttime'], 'lanes':splitLane2Tbl(a['lane'])})\n",
    "            \n",
    "        else:\n",
    "            print('TypeError: ',Y)\n",
    "        \n",
    "        #collect.insert_many(tmp)\n",
    "        f.close()\n",
    "        ######3##########TODO \n",
    "        break\n",
    "    print(tmp[0],'\\n',tmp[1],'\\n',tmp[2],'\\n',)"
   ]
  },
  {
   "cell_type": "code",
   "execution_count": 26,
   "metadata": {},
   "outputs": [],
   "source": [
    "def downloadInsert(trType, day, baseDir):\n",
    "    downloadVD5MinDay(trType, day, baseDir)\n",
    "    getAllFiles2Mongo(trType, day, baseDir)"
   ]
  },
  {
   "cell_type": "code",
   "execution_count": 27,
   "metadata": {},
   "outputs": [
    {
     "name": "stdout",
     "output_type": "stream",
     "text": [
      "vd_value5_0715.xml.gz\n",
      "{'vdid': 'nfbVD-N1-S--0.008-M-LOOP', 'collecttime': '2019/04/04 07:15:00', 'lanes':   @carid @volume @vsrid @speed @laneoccupy\n",
      "0      S      33      1     67           7\n",
      "1      T       4      1     67           7\n",
      "2      L       0      1     67           7\n",
      "3      S      39      2     60           8\n",
      "4      T       1      2     60           8\n",
      "5      L       0      2     60           8} \n",
      " {'vdid': 'nfbVD-N1-S-0.990-N-LOOP', 'collecttime': '2019/04/04 07:15:00', 'lanes':   @carid @volume @vsrid @speed @laneoccupy\n",
      "0      S      41      1     95           6\n",
      "1      T       0      1     95           6\n",
      "2      L       3      1     95           6\n",
      "3      S      23      2     91           3\n",
      "4      T       2      2     91           3\n",
      "5      L       0      2     91           3} \n",
      " {'vdid': 'nfbVD-N1-S-1-O-NW-1-基隆', 'collecttime': '2019/04/04 07:15:00', 'lanes':   @carid @volume @vsrid @speed @laneoccupy\n",
      "0      S      20      1     57           3\n",
      "1      T       0      1     57           3\n",
      "2      L       0      1     57           3} \n",
      "\n"
     ]
    }
   ],
   "source": [
    "getAllFiles2Mongo('vd','20190404',baseDir)"
   ]
  },
  {
   "cell_type": "code",
   "execution_count": null,
   "metadata": {},
   "outputs": [],
   "source": [
    "days=['0405','0406','0407','0606','0607','0608','0624','0625','0626','0627','0628','0202','0203','0204','0205','0206','0207','0208','0209','0210']#\n",
    "#days=['1010','1011','1012','1013','0913','0914','0915']\n",
    "for d in days:\n",
    "    downloadVDDay('vd','2019'+d,baseDir)"
   ]
  },
  {
   "cell_type": "code",
   "execution_count": null,
   "metadata": {},
   "outputs": [],
   "source": []
  }
 ],
 "metadata": {
  "kernelspec": {
   "display_name": "Python 3",
   "language": "python",
   "name": "python3"
  },
  "language_info": {
   "codemirror_mode": {
    "name": "ipython",
    "version": 3
   },
   "file_extension": ".py",
   "mimetype": "text/x-python",
   "name": "python",
   "nbconvert_exporter": "python",
   "pygments_lexer": "ipython3",
   "version": "3.7.0"
  }
 },
 "nbformat": 4,
 "nbformat_minor": 4
}
