{
 "cells": [
  {
   "cell_type": "code",
   "execution_count": 1,
   "metadata": {},
   "outputs": [],
   "source": [
    "import requests\n",
    "from pathlib import Path\n",
    "import xmltodict\n",
    "import os\n",
    "import pandas as pd\n",
    "import io\n",
    "import datetime\n",
    "import pymongo\n",
    "import json\n",
    "import gzip\n",
    "import dns\n",
    "from os import listdir\n",
    "from os.path import isfile, join\n",
    "\n",
    "urlBase='https://tisvcloud.freeway.gov.tw/history/cms/'  # 20190624/cms_value_0000.xml.gz   20190624/cms_value_0014.xml.gz\n",
    "baseDir='../../../data/'\n",
    "client = pymongo.MongoClient(\"mongodb://localhost:27017\")\n",
    "db = client.traffic\n",
    "trType='cms'\n",
    "collect = db[trType]\n",
    "#建立 unique index 以防重複 insert doc to mongodb, 並且加速查詢, 如果同樣的 compound unique index已經存在則不作用\n",
    "db['cms'].create_index([(\"@cmsid\",1),(\"updateTime\",1)],unique=True)\n",
    "\n",
    "#確認該 url 是否可以下載, 例如 20190230 就不存在, 無法下載; 而且必須是附件形式的方可\n",
    "def isDownloadable(url):\n",
    "    \"\"\"\n",
    "    Does the url contain a downloadable resource\n",
    "    \"\"\"\n",
    "    h = requests.head(url, allow_redirects=True)\n",
    "    header = h.headers\n",
    "    content_type = header.get('content-type')\n",
    "    if content_type is None:\n",
    "        return False\n",
    "    if 'text' in content_type.lower():\n",
    "        return False\n",
    "    if 'html' in content_type.lower():\n",
    "        return False\n",
    "    return True\n",
    "\n",
    "\n",
    "#下載某url檔案後, 放在指定目錄下\n",
    "def downloadFileFromUrl(url, directory):\n",
    "    filename = directory+'/'+ url.rsplit('/', 1)[1]\n",
    "    if not os.path.exists(filename):\n",
    "        r = requests.get(url, allow_redirects=True)\n",
    "        open(filename, 'wb').write(r.content)"
   ]
  },
  {
   "cell_type": "code",
   "execution_count": 2,
   "metadata": {},
   "outputs": [],
   "source": [
    "#抓取 CMS 的某一天所有可能的檔案 並下載到指定目錄\n",
    "def downloadCMSDay(trType, day, baseDir):\n",
    "    downloads=[]\n",
    "    for hour in range(0,24):\n",
    "        for mininute in range(0,60,2):  #cms 每2分鐘一次\n",
    "            downloads.append(urlBase + day + '/' + trType + '_value_'+ format(hour, '02d')+ format(mininute, '02d') +'.xml.gz' )\n",
    "    p=baseDir+trType+'/'+day\n",
    "    Path(p).mkdir(parents=True, exist_ok=True)\n",
    "    for url in downloads:\n",
    "        if isDownloadable(url):\n",
    "            downloadFileFromUrl(url,p)\n",
    "            #print(url)  "
   ]
  },
  {
   "cell_type": "code",
   "execution_count": 3,
   "metadata": {},
   "outputs": [],
   "source": [
    "\n",
    "def getAllFiles2Mongo(trType, day, baseDir):\n",
    "    directory=baseDir+trType+'/'+day+'/'\n",
    "    print(directory)\n",
    "    files = [f for f in listdir(directory) if isfile(join(directory, f))]\n",
    "    #print(files)\n",
    "    for file in files:\n",
    "        f = gzip.open(directory+file, 'rb')\n",
    "        doc = xmltodict.parse(f)\n",
    "        Y=doc['XML_Head']['Infos']\n",
    "        if Y is not None:\n",
    "            X=Y['Info']\n",
    "            updateTime=datetime.datetime.strptime(doc['XML_Head']['@updatetime'], \"%Y/%m/%d %H:%M:%S\")\n",
    "            json_data = json.dumps(X)\n",
    "            cc = json.loads(json_data)\n",
    "            for a in cc:\n",
    "                a['updateTime']=updateTime\n",
    "            collect.insert_many(cc)    \n",
    "        else:\n",
    "            print('TypeError: ',Y)\n",
    "        \n",
    "        f.close()\n"
   ]
  },
  {
   "cell_type": "code",
   "execution_count": 4,
   "metadata": {},
   "outputs": [],
   "source": [
    "def downloadInsert(trType, day, baseDir):\n",
    "    downloadCMSDay(trType, day, baseDir)\n",
    "    getAllFiles2Mongo(trType, day, baseDir)"
   ]
  },
  {
   "cell_type": "code",
   "execution_count": 6,
   "metadata": {},
   "outputs": [
    {
     "name": "stdout",
     "output_type": "stream",
     "text": [
      "../../../data/cms/20190916/\n",
      "TypeError:  None\n",
      "TypeError:  None\n",
      "TypeError:  None\n",
      "TypeError:  None\n",
      "TypeError:  None\n",
      "TypeError:  None\n",
      "../../../data/cms/20190917/\n",
      "TypeError:  None\n",
      "TypeError:  None\n",
      "../../../data/cms/20190909/\n",
      "TypeError:  None\n",
      "TypeError:  None\n",
      "TypeError:  None\n",
      "TypeError:  None\n",
      "../../../data/cms/20190918/\n",
      "TypeError:  None\n"
     ]
    }
   ],
   "source": [
    "#days=['0404','0405','0406','0407','0606','0607','0608','0624','0625'] #,,]#\n",
    "days=['0916','0917','0909','0918'] #'0207','0208','0209','0210','0626','0407','0606','0202','0203','0204','0205','0206'] #,#\n",
    "for d in days:\n",
    "    downloadInsert('cms','2019'+d,baseDir)\n",
    "    "
   ]
  },
  {
   "cell_type": "code",
   "execution_count": null,
   "metadata": {},
   "outputs": [],
   "source": []
  }
 ],
 "metadata": {
  "kernelspec": {
   "display_name": "Python 3",
   "language": "python",
   "name": "python3"
  },
  "language_info": {
   "codemirror_mode": {
    "name": "ipython",
    "version": 3
   },
   "file_extension": ".py",
   "mimetype": "text/x-python",
   "name": "python",
   "nbconvert_exporter": "python",
   "pygments_lexer": "ipython3",
   "version": "3.7.0"
  }
 },
 "nbformat": 4,
 "nbformat_minor": 4
}
