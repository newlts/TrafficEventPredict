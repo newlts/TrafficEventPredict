{
 "cells": [
  {
   "cell_type": "code",
   "execution_count": 2,
   "metadata": {},
   "outputs": [],
   "source": [
    "import requests\n",
    "from pathlib import Path\n",
    "import os\n",
    "import tarfile\n",
    "import pandas as pd\n",
    "import io\n",
    "import datetime\n",
    "urlBase='http://tisvcloud.freeway.gov.tw/history/TDCS'\n",
    "baseDir='../../../data/'"
   ]
  },
  {
   "cell_type": "code",
   "execution_count": 2,
   "metadata": {},
   "outputs": [],
   "source": [
    "#確認該 url 是否可以下載, 例如 20190230 就不存在, 無法下載\n",
    "def isDownloadable(url):\n",
    "    \"\"\"\n",
    "    Does the url contain a downloadable resource\n",
    "    \"\"\"\n",
    "    h = requests.head(url, allow_redirects=True)\n",
    "    header = h.headers\n",
    "    content_type = header.get('content-type')\n",
    "    if content_type is None:\n",
    "        return False\n",
    "    if 'text' in content_type.lower():\n",
    "        return False\n",
    "    if 'html' in content_type.lower():\n",
    "        return False\n",
    "    return True"
   ]
  },
  {
   "cell_type": "code",
   "execution_count": 3,
   "metadata": {},
   "outputs": [],
   "source": [
    "#下載某url檔案後, 放在指定目錄下\n",
    "def downloadFileFromUrl(url, directory):\n",
    "    \n",
    "    filename = directory+'/'+ url.rsplit('/', 1)[1]\n",
    "    if not os.path.exists(filename):\n",
    "        r = requests.get(url, allow_redirects=True)\n",
    "        open(filename, 'wb').write(r.content)"
   ]
  },
  {
   "cell_type": "code",
   "execution_count": 4,
   "metadata": {},
   "outputs": [],
   "source": [
    "def downloadTDCSbyDay(trType, day, baseDir):\n",
    "    url=urlBase + '/' + trType + '/' + trType + '_' + day+'.tar.gz'  #day format '20190630'\n",
    "    \n",
    "    directory=baseDir+trType\n",
    "    Path(directory).mkdir(parents=True, exist_ok=True)\n",
    "    print(directory)\n",
    "    downloadFileFromUrl(url, directory)\n",
    "    \n",
    "    "
   ]
  },
  {
   "cell_type": "code",
   "execution_count": 2,
   "metadata": {},
   "outputs": [],
   "source": [
    "import pymongo\n",
    "import dns\n",
    "client = pymongo.MongoClient(\"mongodb://localhost:27017\")\n",
    "db = client.traffic\n",
    "#建立 unique index 以防重複 insert doc to mongodb, 並且加速查詢, 如果同樣的 compound unique index已經存在則不作用\n",
    "db['M03A'].create_index([(\"TimeInterval\",1),(\"GantryId\",1),(\"Direction\",1),(\"VehicleType\",1)],unique=True)\n",
    "db['M04A'].create_index([(\"TimeInterval\",1),(\"GantryFrom\",1),(\"GantryTo\",1),(\"VehicleType\",1)],unique=True)\n",
    "db['M08A'].create_index([(\"TimeInterval\",1),(\"GantryFrom\",1),(\"GantryTo\",1),(\"VehicleType\",1)],unique=True)\n",
    "\n",
    "def dataframe2Mongo(select_df, trfType):\n",
    "    collection = db[trfType]  \n",
    "    records = select_df.to_dict('records') # 參數 record 代表把列轉成個別物件\n",
    "    collection.insert_many(records)\n"
   ]
  },
  {
   "cell_type": "code",
   "execution_count": 9,
   "metadata": {},
   "outputs": [],
   "source": [
    "def insertMongo(trType, day, baseDir):\n",
    "    colNames={\n",
    "            'M03A': ['TimeInterval','GantryId', 'Direction', 'VehicleType', '交通量'],\n",
    "            'M04A': ['TimeInterval','GantryFrom','GantryTo', 'VehicleType', 'TravelTime', '交通量'],\n",
    "            'M06A': ['VehicleType','DetectionTime_O', 'GantryID_O', 'DetectionTime_D', 'GantryID_D', 'TripLength', 'TripEnd', 'TripInformation'],\n",
    "            'M08A': ['TimeInterval','GantryFrom','GantryTo', 'VehicleType', '交通量']\n",
    "        }\n",
    "    tarGzFile=baseDir+trType+'/'+ trType + '_' + day+'.tar.gz'\n",
    "    print(tarGzFile)\n",
    "    \n",
    "    result=pd.DataFrame()\n",
    "    tar = tarfile.open(tarGzFile, \"r:gz\")\n",
    "    for member in tar.getmembers():\n",
    "        f = tar.extractfile(member)\n",
    "\n",
    "        if f is not None:\n",
    "            content = f.read()\n",
    "            df = pd.read_csv(io.StringIO(content.decode('utf-8')), header=None, sep=',')\n",
    "            \n",
    "            result=result.append(df, ignore_index=True)\n",
    "    \n",
    "    result.columns = colNames[trType]\n",
    "    result.TimeInterval=result.TimeInterval.apply(lambda dt:datetime.datetime.strptime(dt, \"%Y-%m-%d %H:%M\")) #M03A, M08A use format: \"%Y-%m-%d %H:%M\"))\n",
    "    dataframe2Mongo(result,trType)\n",
    "    return result"
   ]
  },
  {
   "cell_type": "code",
   "execution_count": 10,
   "metadata": {},
   "outputs": [],
   "source": [
    "def downloadInsert(trType, day, baseDir):\n",
    "    downloadTDCSbyDay(trType, day, baseDir) #20190404-07\n",
    "    insertMongo(trType, day, baseDir)"
   ]
  },
  {
   "cell_type": "code",
   "execution_count": 12,
   "metadata": {},
   "outputs": [
    {
     "name": "stdout",
     "output_type": "stream",
     "text": [
      "../../../data/M03A\n",
      "../../../data/M03A/M03A_20190918.tar.gz\n",
      "../../../data/M08A\n",
      "../../../data/M08A/M08A_20190918.tar.gz\n",
      "../../../data/M03A\n",
      "../../../data/M03A/M03A_20190910.tar.gz\n",
      "../../../data/M08A\n",
      "../../../data/M08A/M08A_20190910.tar.gz\n",
      "../../../data/M03A\n",
      "../../../data/M03A/M03A_20190919.tar.gz\n",
      "../../../data/M08A\n",
      "../../../data/M08A/M08A_20190919.tar.gz\n"
     ]
    }
   ],
   "source": [
    "#days=['0404','0405','0406','0407','0606','0607','0608','0624','0625','0626','0627','0628','0202','0203','0204','0205','0206','0207','0208','0209','0210']#\n",
    "days=['0918','0910','0919']#['1010','1011','1012','1013','0913','0914','0915']\n",
    "for d in days:\n",
    "    downloadInsert('M03A','2019'+d,baseDir)\n",
    "    downloadInsert('M08A','2019'+d,baseDir)\n"
   ]
  },
  {
   "cell_type": "code",
   "execution_count": 12,
   "metadata": {},
   "outputs": [
    {
     "name": "stdout",
     "output_type": "stream",
     "text": [
      "../../../data/M04A\n",
      "../../../data/M04A/M04A_20191010.tar.gz\n",
      "../../../data/M04A\n",
      "../../../data/M04A/M04A_20191011.tar.gz\n",
      "../../../data/M04A\n",
      "../../../data/M04A/M04A_20191012.tar.gz\n",
      "../../../data/M04A\n",
      "../../../data/M04A/M04A_20191013.tar.gz\n",
      "../../../data/M04A\n",
      "../../../data/M04A/M04A_20190913.tar.gz\n",
      "../../../data/M04A\n",
      "../../../data/M04A/M04A_20190914.tar.gz\n",
      "../../../data/M04A\n",
      "../../../data/M04A/M04A_20190915.tar.gz\n"
     ]
    }
   ],
   "source": [
    "#days=['0404','0405','0406','0407','0606','0607','0608','0624','0625','0626','0627','0628','0202','0203','0204','0205','0206','0207','0208','0209','0210']#\n",
    "days=['1010','1011','1012','1013','0913','0914','0915']\n",
    "for d in days:\n",
    "    downloadInsert('M04A','2019'+d,baseDir)\n",
    "    "
   ]
  },
  {
   "cell_type": "code",
   "execution_count": null,
   "metadata": {},
   "outputs": [],
   "source": []
  }
 ],
 "metadata": {
  "kernelspec": {
   "display_name": "Python 3",
   "language": "python",
   "name": "python3"
  },
  "language_info": {
   "codemirror_mode": {
    "name": "ipython",
    "version": 3
   },
   "file_extension": ".py",
   "mimetype": "text/x-python",
   "name": "python",
   "nbconvert_exporter": "python",
   "pygments_lexer": "ipython3",
   "version": "3.7.0"
  }
 },
 "nbformat": 4,
 "nbformat_minor": 4
}
