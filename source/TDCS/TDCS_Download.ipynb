{
 "cells": [
  {
   "cell_type": "code",
   "execution_count": 1,
   "metadata": {},
   "outputs": [],
   "source": [
    "import requests\n",
    "from pathlib import Path\n",
    "\n",
    "#確認該 url 是否可以下載, 例如 20190230 就不存在, 無法下載\n",
    "def isDownloadable(url):\n",
    "    \"\"\"\n",
    "    Does the url contain a downloadable resource\n",
    "    \"\"\"\n",
    "    h = requests.head(url, allow_redirects=True)\n",
    "    header = h.headers\n",
    "    content_type = header.get('content-type')\n",
    "    if content_type is None:\n",
    "        return False\n",
    "    if 'text' in content_type.lower():\n",
    "        return False\n",
    "    if 'html' in content_type.lower():\n",
    "        return False\n",
    "    return True\n",
    "\n",
    "#下載某url檔案後, 放在指定目錄下\n",
    "def downloadFileFromUrl(url, directory):\n",
    "    r = requests.get(url, allow_redirects=True)\n",
    "    filename = directory+'/'+ url.rsplit('/', 1)[1]\n",
    "    open(filename, 'wb').write(r.content)"
   ]
  },
  {
   "cell_type": "code",
   "execution_count": 2,
   "metadata": {},
   "outputs": [],
   "source": [
    "#抓取某類型的某一年份所有可能的檔案\n",
    "def getDownloadList(urlBase, trType, year):\n",
    "    downloads=[]\n",
    "    for m in range(6,7):\n",
    "        for d in range(24,29):\n",
    "            downloads.append(urlBase + '/' + trType + '/' + trType + '_' + year + format(m, '02d')+ format(d, '02d')+'.tar.gz' ) \n",
    "    return downloads"
   ]
  },
  {
   "cell_type": "code",
   "execution_count": 3,
   "metadata": {},
   "outputs": [
    {
     "name": "stdout",
     "output_type": "stream",
     "text": [
      "http://tisvcloud.freeway.gov.tw/history/TDCS/M03A/M03A_20190624.tar.gz\n",
      "http://tisvcloud.freeway.gov.tw/history/TDCS/M03A/M03A_20190625.tar.gz\n",
      "http://tisvcloud.freeway.gov.tw/history/TDCS/M03A/M03A_20190626.tar.gz\n",
      "http://tisvcloud.freeway.gov.tw/history/TDCS/M03A/M03A_20190627.tar.gz\n",
      "http://tisvcloud.freeway.gov.tw/history/TDCS/M03A/M03A_20190628.tar.gz\n"
     ]
    }
   ],
   "source": [
    "#要批量下載的類型\n",
    "#trTypes=['M03A', 'M04A', 'M05A', 'M06A', 'M07A', 'M08A']\n",
    "trTypes=['M03A']\n",
    "for t in trTypes:\n",
    "    fileUrls=getDownloadList('http://tisvcloud.freeway.gov.tw/history/TDCS',t,'2019')\n",
    "    p='../../../data/'+t\n",
    "    Path(p).mkdir(parents=True, exist_ok=True)\n",
    "    for url in fileUrls:\n",
    "        if isDownloadable(url):\n",
    "            print(url)\n",
    "            downloadFileFromUrl(url,p)"
   ]
  },
  {
   "cell_type": "code",
   "execution_count": null,
   "metadata": {},
   "outputs": [],
   "source": []
  }
 ],
 "metadata": {
  "kernelspec": {
   "display_name": "Python 3",
   "language": "python",
   "name": "python3"
  },
  "language_info": {
   "codemirror_mode": {
    "name": "ipython",
    "version": 3
   },
   "file_extension": ".py",
   "mimetype": "text/x-python",
   "name": "python",
   "nbconvert_exporter": "python",
   "pygments_lexer": "ipython3",
   "version": "3.7.0"
  }
 },
 "nbformat": 4,
 "nbformat_minor": 4
}
