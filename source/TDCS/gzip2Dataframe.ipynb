{
 "cells": [
  {
   "cell_type": "code",
   "execution_count": 26,
   "metadata": {},
   "outputs": [],
   "source": [
    "import tarfile\n",
    "import pandas as pd\n",
    "import io\n",
    "import datetime\n",
    "\n",
    "def toDatetime(dt):\n",
    "    return datetime.datetime.strptime(dt, \"%Y-%m-%d %H:%M\")\n",
    "\n",
    "def ungzToDataframe(tarGzFile,columnNames):\n",
    "    \n",
    "    '''\n",
    "    無法直接用 pandas 的read_csv(...compression='gzip') , 欄位會跑掉, 尚未找到好方法進行異常處理.\n",
    "    df = pd.read_csv('M03A_20190227.tar.gz', compression='gzip', header=None, sep=',', quotechar='\"', error_bad_lines=False)\n",
    "\n",
    "    所以考慮土方法 解壓縮成一個一個 csv 再處理\n",
    "    '''\n",
    "    \n",
    "    result=pd.DataFrame()\n",
    "    tar = tarfile.open(tarGzFile, \"r:gz\")\n",
    "    for member in tar.getmembers():\n",
    "        f = tar.extractfile(member)\n",
    "\n",
    "        if f is not None:\n",
    "            content = f.read()\n",
    "            df = pd.read_csv(io.StringIO(content.decode('utf-8')), header=None, sep=',')\n",
    "            \n",
    "            result=result.append(df, ignore_index=True)\n",
    "    \n",
    "    result.columns = columnNames\n",
    "    result.TimeInterval=result.TimeInterval.apply(toDatetime)\n",
    "    return result"
   ]
  },
  {
   "cell_type": "code",
   "execution_count": 27,
   "metadata": {},
   "outputs": [],
   "source": [
    "columnNames = ['VehicleType','DetectionTime_O', 'GantryID_O', 'DetectionTime_D', 'GantryID_D', 'TripLength', 'TripEnd', 'TripInformation'] #M06A\n",
    "#df = ungzToDataframe('M06A/M06A_20190107.tar.gz', columnNames)"
   ]
  },
  {
   "cell_type": "code",
   "execution_count": 28,
   "metadata": {},
   "outputs": [],
   "source": [
    "columnNames = ['TimeInterval','GantryFrom','GantryTo', 'VehicleType', 'TravelTime', '交通量'] #M04A\n",
    "#df = ungzToDataframe('M04A/M04A_20191013.tar.gz', columnNames)"
   ]
  },
  {
   "cell_type": "code",
   "execution_count": 18,
   "metadata": {},
   "outputs": [],
   "source": [
    "import pymongo\n",
    "import dns\n",
    "client = pymongo.MongoClient(\"mongodb://localhost:27017\")\n",
    "db = client.traffic\n",
    "\n",
    "def dataframe2Mongo(select_df, trfType):\n",
    "    collection = db[trfType]  \n",
    "    records = select_df.to_dict('records') # 參數 record 代表把列轉成個別物件\n",
    "    collection.insert_many(records)\n"
   ]
  },
  {
   "cell_type": "code",
   "execution_count": 23,
   "metadata": {},
   "outputs": [],
   "source": [
    "dayToInsert=['0624','0625','0626','0627','0628']"
   ]
  },
  {
   "cell_type": "code",
   "execution_count": 24,
   "metadata": {},
   "outputs": [
    {
     "name": "stdout",
     "output_type": "stream",
     "text": [
      "--- 0624\n",
      "--- 0625\n",
      "--- 0626\n",
      "--- 0627\n",
      "--- 0628\n"
     ]
    }
   ],
   "source": [
    "columnNames = ['TimeInterval','GantryId', 'Direction', 'VehicleType', '交通量'] #M03A\n",
    "\n",
    "for d in dayToInsert:\n",
    "    print('---',d)\n",
    "    df = ungzToDataframe('../../../data/M03A/'+'M03A_2019'+d+'.tar.gz', columnNames)\n",
    "    dataframe2Mongo(df, 'TDCS-M03A')"
   ]
  },
  {
   "cell_type": "code",
   "execution_count": 25,
   "metadata": {},
   "outputs": [
    {
     "name": "stdout",
     "output_type": "stream",
     "text": [
      "--- 0624\n",
      "--- 0625\n",
      "--- 0626\n",
      "--- 0627\n",
      "--- 0628\n"
     ]
    }
   ],
   "source": [
    "columnNames = ['TimeInterval','GantryFrom','GantryTo', 'VehicleType', '交通量'] #M08A\n",
    "for d in dayToInsert:\n",
    "    print('---',d)\n",
    "    df = ungzToDataframe('../../../data/M08A/'+'M08A_2019'+d+'.tar.gz', columnNames)\n",
    "    dataframe2Mongo(df, 'TDCS-M08A')\n"
   ]
  },
  {
   "cell_type": "code",
   "execution_count": null,
   "metadata": {},
   "outputs": [],
   "source": []
  }
 ],
 "metadata": {
  "kernelspec": {
   "display_name": "Python 3",
   "language": "python",
   "name": "python3"
  },
  "language_info": {
   "codemirror_mode": {
    "name": "ipython",
    "version": 3
   },
   "file_extension": ".py",
   "mimetype": "text/x-python",
   "name": "python",
   "nbconvert_exporter": "python",
   "pygments_lexer": "ipython3",
   "version": "3.7.0"
  }
 },
 "nbformat": 4,
 "nbformat_minor": 4
}
